{
 "cells": [
  {
   "cell_type": "markdown",
   "metadata": {},
   "source": [
    "# Trabalho 2 - Python + MongoDB\n",
    "-----\n",
    "O objetivo deste trabalho é exercitar a utilização de banco de dados noSQL e manipulação de dados em Python. O dataset que será utilizado é o dataset de Comunicação de Acidentes do Trabalho, disponível no portal de dados aberto do Brasil: http://dados.gov.br\n",
    "O dataset original completo é composto por 3 trimestres de comunicação de acidentes de trabalho (Jul-Set 2018, Out-Dez 2018 e Jan-Mar 2019). Cada dupla, em sua área Oracle, tem acesso a um recorte deste dataset, com até 29.000 instâncias, aproximadamente. Além disso, o dataset foi enriquecido com dados de populações das respectivas cidades dos correspondentes empregadores (não, não tem a cidade onde ocorreu o acidente de trabalho; somente o estado).\n",
    "\n",
    "Abaixo, você encontra o passo a passo que deve ser seguido para realização do trabalho.\n",
    "\n",
    "\n",
    "## 1 - Exportar os dados do Oracle\n",
    "Você deve construir uma consulta que faça a junção entre os acidentes de trabalho disponíveis ao grupo e as populações dos municípios que aparecem no dataset, e exportar o resultados para `csv`. Ao exportar, definir delimitadores para não numéricos (\", por exemplo) e a codificação adequada ('cp1252' é adequada).\n",
    "\n",
    "\n",
    "## 2 - Ler o dataset e inserir no MongoDB\n",
    "\n",
    "Você deve ler o dataset exportado no passo anterior, transformar os dados em formato de documento e fazer upload para a coleção do seu grupo no mongoDB. O nome da coleção é `dupla_x_collection`. O seu usário do MongoDB é `dupla_x`. A senha você deve ter recebido no moodle. Caso não saiba a sua senha de acesso, pergunte aos professores. **x** é o número da sua dupla! \n",
    "\n",
    "Para conectar no MongoDB a partir do python, você pode utilizar o código abaixo:\n",
    "\n",
    "```python\n",
    "from pymongo import MongoClient\n",
    "user = 'dupla_x' # coloque o número da sua dupla aqui!\n",
    "pwd = 'senhaDaSuaDupla' # coloque a senha da sua dupla aqui!\n",
    "client = MongoClient('mongodb://{}:{}@ds151066.mlab.com:51066/datascience'.format(user, pwd))\n",
    "db = client.datascience\n",
    "\n",
    "# exemplo de consulta de documentos\n",
    "cursor = db.dupla_x_collection.find() # x é o numero da sua dupla!!\n",
    "```\n",
    "O espaço alocado no MongoDB (MLAB), para cada grupo, é suficiente para a carga do `csv`. \n",
    "\n",
    "\n",
    "## 2 - Responder as seguintes perguntas utilizando consultas ao MongoDB\n",
    "\n",
    "A dupla deve responder as seguintes perguntas, utilizando apenas consultas ao banco de dados.\n",
    "\n",
    "1. Quais os 10 municípios com maior taxa de acidentes por 100 mil habitantes?\n",
    "2. Quais as Naturezas das lesões, e correspondentes números de acidentes de trabalho, para naturezas de lesões cujo número de acidentes de trabalho é > 100?\n",
    "3. Quais os agentes causadores de acidentes, e correspondentes números de acidentes, por mês-ano e para acidentes com óbitos, onde o número de óbitos por agente causador é > 2?\n",
    "\n",
    "Dica: usem aggregate da API do MongoDB. Vejam mais informações em: \n",
    "https://docs.mongodb.com/manual/reference/method/db.collection.aggregate/\n",
    "e\n",
    "https://docs.mongodb.com/manual/reference/operator/aggregation-pipeline/\n",
    "\n",
    "\n",
    "## 3 - Responder as seguintes perguntas utilizando Python (Pandas, Numpy e Matplotlib)\n",
    "\n",
    "1. Quais os 10 municípios que mais possuem acidentes de trabalho? Faça um gráfico de barras para apresentar o resultado.\n",
    "2. Quais os 10 municípios que mais possuem acidentes de trabalho por 100 mil habitantes? Faça um gráfico de barras para apresentar o resultado.\n",
    "3. Qual a proporção de acidentes de trabalho em relação a cada estado? Faça um gráfico de pizza para mostrar o resultado.\n",
    "4. Qual a natureza da lesão mais comum nos acidentes?\n",
    "5. Qual é o comportamento do número de acidentes ao longo do tempo? Mostre a evolução do número de acientes utilizando um gráfico de linha.\n",
    " \n",
    "\n",
    "\n",
    "## Entrega\n",
    "A dupla deve entregar, **no moodle da disciplina de Banco de Dados Relacionais e Não Relacionais**, um **arquivo zip** com o seguinte nome: `dupla_x.zip`, onde **x** é o número da sua dupla. O arquivo `zip` deve conter os seguintes arquivos:\n",
    "* Um relatório em `pdf` contendo a definição da visão definida no Oracle, e os resultados obtidos nas consultas sobre o MongoDB via MLAB.\n",
    "* Este jupyter notebook contendo o código desenvolvido pela dupla.\n",
    "* O dataset em `csv` exportado do Oracle.\n",
    "\n",
    "<h3 style='color:red'>IMPORTANTE: A data de entrega do trabalho é 23/05.</h3>\n",
    "\n",
    "\n",
    "## Critérios de avaliação\n",
    "\n",
    "#### Critérios de avaliação da disciplina de Banco de Dados Relacionais e Não Relacionais\n",
    "- Visão adequada para exportação, contendo a junção do recorte de dados de acidentes de trabalho e as populações dos municípios: 15%\n",
    "- Arquivo `csv` exportado, com o conteúdo adequado: 10%\n",
    "- Resolução das consultas propostas: 75% (25% para cada uma)\n",
    "\n",
    "\n",
    "#### Critérios de avaliação da disciplina de Python Para Ciência de Dados\n",
    "A nota deste trabalho equivale ao **Trabalho 2 (T2)** da disciplinina de de Python Para Ciência de Dados. A pontuação será calculada sobre as questões mostradas no **item 3**, cada questão vale **2 pontos** e será avaliada de acordo com os seguintes critérios:\n",
    "\n",
    "- Resolver o problema proposto: 70%\n",
    "- Utilizar código vetorizado: 20%\n",
    "- Escrever código simples e legível: 10%"
   ]
  },
  {
   "cell_type": "markdown",
   "metadata": {},
   "source": [
    "### O seu código deve ser escrito nas células abaixo. Crie novas células conforme a necesidade de abstração. Evite escrever o código inteiro em uma única célula."
   ]
  },
  {
   "cell_type": "code",
   "execution_count": 39,
   "metadata": {},
   "outputs": [
    {
     "data": {
      "text/plain": [
       "'utf-8'"
      ]
     },
     "execution_count": 39,
     "metadata": {},
     "output_type": "execute_result"
    }
   ],
   "source": [
    "# Imports e cargas iniciais\n",
    "import numpy as np\n",
    "import pandas as pd\n",
    "import csv\n",
    "import collections\n",
    "import matplotlib.pyplot as plt\n",
    "import sys\n",
    "import time\n",
    "import pprint\n",
    "\n",
    "from pymongo import MongoClient\n",
    "from IPython.display import display as print_dataframe\n",
    "from pymongo.errors import BulkWriteError,WriteError\n",
    "from unicodedata import normalize\n",
    "from bson.son import SON\n",
    "\n",
    "sys.getdefaultencoding()"
   ]
  },
  {
   "cell_type": "markdown",
   "metadata": {},
   "source": [
    "#### Conexão com a base"
   ]
  },
  {
   "cell_type": "code",
   "execution_count": 77,
   "metadata": {},
   "outputs": [],
   "source": [
    "# Comece a escrever seu código aqui\n",
    "from pymongo import MongoClient\n",
    "user = 'dupla_11' # coloque o número da sua dupla aqui!\n",
    "pwd = '8yyraqzb' # coloque a senha da sua dupla aqui!\n",
    "# client = MongoClient('mongodb://{}:{}@ds151066.mlab.com:51066/datascience'.format(user, pwd))\n",
    "#Fiquei injuriado com o erro de quota exceeded e levantei um server pra nós\n",
    "client = MongoClient('mongodb+srv://{}:{}@cluster0-vdmfc.azure.mongodb.net/test?retryWrites=true'.format('equipe11', 'ChDcnlUCQ4w7lphV'))\n",
    "db = client.datascience\n",
    "acidentes = db[\"dupla_11_collection\"]"
   ]
  },
  {
   "cell_type": "markdown",
   "metadata": {},
   "source": [
    "#### Códigos de limpeza e reinserção de dados"
   ]
  },
  {
   "cell_type": "code",
   "execution_count": 78,
   "metadata": {},
   "outputs": [
    {
     "name": "stdout",
     "output_type": "stream",
     "text": [
      "Encontrou 26248 registros antes da limpeza.\n",
      "Removidos 26248 registros.\n",
      "0 registros após operação de limpeza.\n"
     ]
    }
   ],
   "source": [
    "### Limpeza\n",
    "\n",
    "# Verificando se há conteúdo inicial\n",
    "print(\"Encontrou\",acidentes.count_documents({}),\"registros antes da limpeza.\")\n",
    "\n",
    "#Realizando limpeza\n",
    "result = acidentes.delete_many({})\n",
    "print(\"Removidos\",result.deleted_count,\"registros.\")\n",
    "\n",
    "print(acidentes.count_documents({}),\"registros após operação de limpeza.\" )"
   ]
  },
  {
   "cell_type": "code",
   "execution_count": 79,
   "metadata": {},
   "outputs": [
    {
     "name": "stdout",
     "output_type": "stream",
     "text": [
      "Inseridos 26248 registros\n"
     ]
    }
   ],
   "source": [
    "### Reinserção dos dados \n",
    "arquivo_csvpd = pd.read_csv('exportar.csv', header=0,encoding=\"cp1252\")\n",
    "tabela_dict = arquivo_csvpd.to_dict(\"records\")\n",
    "\n",
    "try:\n",
    "    ## Inserção individual dos registros -- Lento e chega ao mesmo número máximo de registros\n",
    "    #  for registro in tabeladict:\n",
    "    #     acidentes.insert_one(registro)\n",
    "    ## Inserção em massa de registros -- Mais rápido, mas apresentava quota exceeded\n",
    "     acidentes.insert_many(tabela_dict,ordered=False)\n",
    "    \n",
    "    ## Tentativa de dividir em 4 partes e inserir com algum intervalo de tempo (5 min atualmente)\n",
    "    ## Atualmente possui 26248 registros e insere no máximo 10914 registros\n",
    "#     splits = np.array_split(tabeladict, 4)\n",
    "# #     print(splits[1])\n",
    "#     acidentes.insert_many(list(splits[1]))\n",
    "# #     for piece in splits:\n",
    "# #         acidentes.insert_many(list(piece))\n",
    "#         time.sleep(300)\n",
    "    \n",
    "except BulkWriteError as bwe:\n",
    "    print(bwe.details)\n",
    "except WriteError as we:\n",
    "    print(we.details)\n",
    "   \n",
    "print(\"Inseridos\",acidentes.count_documents({}),\"registros\")"
   ]
  },
  {
   "cell_type": "markdown",
   "metadata": {},
   "source": [
    "## Inicio da resolução\n",
    "\n",
    "## 1. Perguntas utilizando consultas ao MongoDB\n",
    "\n",
    "A dupla deve responder as seguintes perguntas, utilizando apenas consultas ao banco de dados.\n",
    "\n",
    "1. Quais os 10 municípios com maior taxa de acidentes por 100 mil habitantes?\n",
    "2. Quais as Naturezas das lesões, e correspondentes números de acidentes de trabalho, para naturezas de lesões cujo número de acidentes de trabalho é > 100?\n",
    "3. Quais os agentes causadores de acidentes, e correspondentes números de acidentes, por mês-ano e para acidentes com óbitos, onde o número de óbitos por agente causador é > 2?\n",
    "\n",
    "Dica: usem aggregate da API do MongoDB. Vejam mais informações em: \n",
    "https://docs.mongodb.com/manual/reference/method/db.collection.aggregate/\n",
    "e\n",
    "https://docs.mongodb.com/manual/reference/operator/aggregation-pipeline/"
   ]
  },
  {
   "cell_type": "code",
   "execution_count": 89,
   "metadata": {},
   "outputs": [
    {
     "name": "stdout",
     "output_type": "stream",
     "text": [
      "1.1: Resposta\n",
      "[{'_id': 'Borá',\n",
      "  'acidentes_por_100mil': 1119.402985074627,\n",
      "  'count': 9,\n",
      "  'pop': 804.0},\n",
      " {'_id': 'Vista Alegre do Alto',\n",
      "  'acidentes_por_100mil': 278.6885245901639,\n",
      "  'count': 17,\n",
      "  'pop': 6100.0},\n",
      " {'_id': 'Onda Verde',\n",
      "  'acidentes_por_100mil': 267.6659528907923,\n",
      "  'count': 10,\n",
      "  'pop': 3736.0},\n",
      " {'_id': 'Cosmorama',\n",
      "  'acidentes_por_100mil': 258.9555459646094,\n",
      "  'count': 18,\n",
      "  'pop': 6951.0},\n",
      " {'_id': 'Ipiguá',\n",
      "  'acidentes_por_100mil': 254.77707006369425,\n",
      "  'count': 10,\n",
      "  'pop': 3925.0},\n",
      " {'_id': 'Mendonça',\n",
      "  'acidentes_por_100mil': 226.13065326633165,\n",
      "  'count': 9,\n",
      "  'pop': 3980.0},\n",
      " {'_id': 'Rio das Pedras',\n",
      "  'acidentes_por_100mil': 208.77619192225933,\n",
      "  'count': 55,\n",
      "  'pop': 26344.0},\n",
      " {'_id': 'Araçariguama',\n",
      "  'acidentes_por_100mil': 203.40086241965665,\n",
      "  'count': 25,\n",
      "  'pop': 12291.0},\n",
      " {'_id': 'Nova Independência',\n",
      "  'acidentes_por_100mil': 201.61290322580646,\n",
      "  'count': 5,\n",
      "  'pop': 2480.0},\n",
      " {'_id': 'Pontes Gestal',\n",
      "  'acidentes_por_100mil': 201.04543626859672,\n",
      "  'count': 5,\n",
      "  'pop': 2487.0}]\n"
     ]
    }
   ],
   "source": [
    "# def converte_tipos(objeto):\n",
    "#     return normalize('NFKD', objeto).encode('ASCII', 'ignore').decode('ASCII')\n",
    "\n",
    "### 1.1. Quais os 10 municípios com maior taxa de acidentes por 100 mil habitantes?\n",
    "\n",
    "pipeline = [\n",
    "    {\"$group\":\n",
    "         {\n",
    "             \"_id\": \"$NOME_MUNICÍPIO\",\n",
    "             \"count\": {\"$sum\": 1},\n",
    "             \"pop\": { \"$avg\": \"$POPULAÇÃO\" }\n",
    "         }\n",
    "    },{\"$addFields\":\n",
    "        {\n",
    "            \"acidentes_por_100mil\": { \"$divide\": [\"$count\",  { \"$divide\": [\"$pop\", 100000] }] },\n",
    "        }\n",
    "    },{\n",
    "        \"$sort\": {\"acidentes_por_100mil\": -1}\n",
    "    }\n",
    " ]\n",
    "\n",
    "print(\"1.1: Resposta\")\n",
    "pprint.pprint(list(acidentes.aggregate(pipeline))[:10])\n",
    "\n",
    "\n",
    "\n",
    "\n"
   ]
  },
  {
   "cell_type": "code",
   "execution_count": null,
   "metadata": {},
   "outputs": [],
   "source": []
  }
 ],
 "metadata": {
  "kernelspec": {
   "display_name": "Python 3",
   "language": "python",
   "name": "python3"
  },
  "language_info": {
   "codemirror_mode": {
    "name": "ipython",
    "version": 3
   },
   "file_extension": ".py",
   "mimetype": "text/x-python",
   "name": "python",
   "nbconvert_exporter": "python",
   "pygments_lexer": "ipython3",
   "version": "3.7.3"
  }
 },
 "nbformat": 4,
 "nbformat_minor": 2
}
